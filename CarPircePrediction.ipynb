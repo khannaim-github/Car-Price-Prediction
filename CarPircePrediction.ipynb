{
 "cells": [
  {
   "cell_type": "code",
   "execution_count": 3,
   "metadata": {},
   "outputs": [],
   "source": [
    "# Import Pandas Library\n",
    "\n",
    "import pandas as pd"
   ]
  },
  {
   "cell_type": "code",
   "execution_count": 4,
   "metadata": {},
   "outputs": [],
   "source": [
    "# Read the file\n",
    "\n",
    "cp = pd.read_csv(r\"C:\\Users\\Fahim\\Desktop\\NAIM\\pranjal\\car_price.csv\")"
   ]
  },
  {
   "cell_type": "code",
   "execution_count": 5,
   "metadata": {},
   "outputs": [
    {
     "data": {
      "text/html": [
       "<div>\n",
       "<style scoped>\n",
       "    .dataframe tbody tr th:only-of-type {\n",
       "        vertical-align: middle;\n",
       "    }\n",
       "\n",
       "    .dataframe tbody tr th {\n",
       "        vertical-align: top;\n",
       "    }\n",
       "\n",
       "    .dataframe thead th {\n",
       "        text-align: right;\n",
       "    }\n",
       "</style>\n",
       "<table border=\"1\" class=\"dataframe\">\n",
       "  <thead>\n",
       "    <tr style=\"text-align: right;\">\n",
       "      <th></th>\n",
       "      <th>symboling</th>\n",
       "      <th>normalized_losses</th>\n",
       "      <th>Fuel_type</th>\n",
       "      <th>make</th>\n",
       "      <th>num_of_doors</th>\n",
       "      <th>aspiration</th>\n",
       "      <th>wheel_base</th>\n",
       "      <th>engine_location</th>\n",
       "      <th>drive_wheels</th>\n",
       "      <th>body_style</th>\n",
       "      <th>...</th>\n",
       "      <th>engine_size</th>\n",
       "      <th>fuel_system</th>\n",
       "      <th>bore</th>\n",
       "      <th>stroke</th>\n",
       "      <th>compression_ratio</th>\n",
       "      <th>horsepower</th>\n",
       "      <th>peak_rpm</th>\n",
       "      <th>city_mpg</th>\n",
       "      <th>highway_mpg</th>\n",
       "      <th>price</th>\n",
       "    </tr>\n",
       "  </thead>\n",
       "  <tbody>\n",
       "    <tr>\n",
       "      <th>0</th>\n",
       "      <td>3</td>\n",
       "      <td>?</td>\n",
       "      <td>gas</td>\n",
       "      <td>std</td>\n",
       "      <td>two</td>\n",
       "      <td>convertible</td>\n",
       "      <td>rwd</td>\n",
       "      <td>front</td>\n",
       "      <td>88.6</td>\n",
       "      <td>alfa-romero</td>\n",
       "      <td>...</td>\n",
       "      <td>130</td>\n",
       "      <td>mpfi</td>\n",
       "      <td>3.47</td>\n",
       "      <td>2.68</td>\n",
       "      <td>9.0</td>\n",
       "      <td>111</td>\n",
       "      <td>5000</td>\n",
       "      <td>21</td>\n",
       "      <td>27</td>\n",
       "      <td>13495</td>\n",
       "    </tr>\n",
       "    <tr>\n",
       "      <th>1</th>\n",
       "      <td>3</td>\n",
       "      <td>?</td>\n",
       "      <td>gas</td>\n",
       "      <td>std</td>\n",
       "      <td>two</td>\n",
       "      <td>convertible</td>\n",
       "      <td>rwd</td>\n",
       "      <td>front</td>\n",
       "      <td>88.6</td>\n",
       "      <td>alfa-romero</td>\n",
       "      <td>...</td>\n",
       "      <td>130</td>\n",
       "      <td>mpfi</td>\n",
       "      <td>3.47</td>\n",
       "      <td>2.68</td>\n",
       "      <td>9.0</td>\n",
       "      <td>111</td>\n",
       "      <td>5000</td>\n",
       "      <td>21</td>\n",
       "      <td>27</td>\n",
       "      <td>16500</td>\n",
       "    </tr>\n",
       "    <tr>\n",
       "      <th>2</th>\n",
       "      <td>1</td>\n",
       "      <td>?</td>\n",
       "      <td>gas</td>\n",
       "      <td>std</td>\n",
       "      <td>two</td>\n",
       "      <td>hatchback</td>\n",
       "      <td>rwd</td>\n",
       "      <td>front</td>\n",
       "      <td>94.5</td>\n",
       "      <td>alfa-romero</td>\n",
       "      <td>...</td>\n",
       "      <td>152</td>\n",
       "      <td>mpfi</td>\n",
       "      <td>2.68</td>\n",
       "      <td>3.47</td>\n",
       "      <td>9.0</td>\n",
       "      <td>154</td>\n",
       "      <td>5000</td>\n",
       "      <td>19</td>\n",
       "      <td>26</td>\n",
       "      <td>16500</td>\n",
       "    </tr>\n",
       "    <tr>\n",
       "      <th>3</th>\n",
       "      <td>2</td>\n",
       "      <td>164</td>\n",
       "      <td>gas</td>\n",
       "      <td>std</td>\n",
       "      <td>four</td>\n",
       "      <td>sedan</td>\n",
       "      <td>fwd</td>\n",
       "      <td>front</td>\n",
       "      <td>99.8</td>\n",
       "      <td>audi</td>\n",
       "      <td>...</td>\n",
       "      <td>109</td>\n",
       "      <td>mpfi</td>\n",
       "      <td>3.19</td>\n",
       "      <td>3.4</td>\n",
       "      <td>10.0</td>\n",
       "      <td>102</td>\n",
       "      <td>5500</td>\n",
       "      <td>24</td>\n",
       "      <td>30</td>\n",
       "      <td>13950</td>\n",
       "    </tr>\n",
       "    <tr>\n",
       "      <th>4</th>\n",
       "      <td>2</td>\n",
       "      <td>164</td>\n",
       "      <td>gas</td>\n",
       "      <td>std</td>\n",
       "      <td>four</td>\n",
       "      <td>sedan</td>\n",
       "      <td>4wd</td>\n",
       "      <td>front</td>\n",
       "      <td>99.4</td>\n",
       "      <td>audi</td>\n",
       "      <td>...</td>\n",
       "      <td>136</td>\n",
       "      <td>mpfi</td>\n",
       "      <td>3.19</td>\n",
       "      <td>3.4</td>\n",
       "      <td>8.0</td>\n",
       "      <td>115</td>\n",
       "      <td>5500</td>\n",
       "      <td>18</td>\n",
       "      <td>22</td>\n",
       "      <td>17450</td>\n",
       "    </tr>\n",
       "  </tbody>\n",
       "</table>\n",
       "<p>5 rows × 26 columns</p>\n",
       "</div>"
      ],
      "text/plain": [
       "   symboling normalized_losses Fuel_type make num_of_doors   aspiration  \\\n",
       "0          3                 ?       gas  std          two  convertible   \n",
       "1          3                 ?       gas  std          two  convertible   \n",
       "2          1                 ?       gas  std          two    hatchback   \n",
       "3          2               164       gas  std         four        sedan   \n",
       "4          2               164       gas  std         four        sedan   \n",
       "\n",
       "  wheel_base engine_location  drive_wheels   body_style  ...  engine_size  \\\n",
       "0        rwd           front          88.6  alfa-romero  ...          130   \n",
       "1        rwd           front          88.6  alfa-romero  ...          130   \n",
       "2        rwd           front          94.5  alfa-romero  ...          152   \n",
       "3        fwd           front          99.8         audi  ...          109   \n",
       "4        4wd           front          99.4         audi  ...          136   \n",
       "\n",
       "   fuel_system  bore  stroke compression_ratio horsepower  peak_rpm city_mpg  \\\n",
       "0         mpfi  3.47    2.68               9.0        111      5000       21   \n",
       "1         mpfi  3.47    2.68               9.0        111      5000       21   \n",
       "2         mpfi  2.68    3.47               9.0        154      5000       19   \n",
       "3         mpfi  3.19     3.4              10.0        102      5500       24   \n",
       "4         mpfi  3.19     3.4               8.0        115      5500       18   \n",
       "\n",
       "  highway_mpg  price  \n",
       "0          27  13495  \n",
       "1          27  16500  \n",
       "2          26  16500  \n",
       "3          30  13950  \n",
       "4          22  17450  \n",
       "\n",
       "[5 rows x 26 columns]"
      ]
     },
     "execution_count": 5,
     "metadata": {},
     "output_type": "execute_result"
    }
   ],
   "source": [
    "# Check the head function \n",
    "\n",
    "cp.head()"
   ]
  },
  {
   "cell_type": "code",
   "execution_count": 6,
   "metadata": {},
   "outputs": [
    {
     "data": {
      "text/plain": [
       " 0    67\n",
       " 1    54\n",
       " 2    32\n",
       " 3    27\n",
       "-1    22\n",
       "-2     3\n",
       "Name: symboling, dtype: int64"
      ]
     },
     "execution_count": 6,
     "metadata": {},
     "output_type": "execute_result"
    }
   ],
   "source": [
    "# Counts the values from the particular tables.\n",
    "\n",
    "cp.symboling.value_counts()"
   ]
  },
  {
   "cell_type": "code",
   "execution_count": 7,
   "metadata": {},
   "outputs": [
    {
     "data": {
      "text/plain": [
       "?      41\n",
       "161    11\n",
       "91      8\n",
       "150     7\n",
       "104     6\n",
       "134     6\n",
       "128     6\n",
       "94      5\n",
       "102     5\n",
       "85      5\n",
       "168     5\n",
       "103     5\n",
       "65      5\n",
       "95      5\n",
       "74      5\n",
       "122     4\n",
       "148     4\n",
       "93      4\n",
       "106     4\n",
       "118     4\n",
       "83      3\n",
       "115     3\n",
       "101     3\n",
       "125     3\n",
       "154     3\n",
       "137     3\n",
       "158     2\n",
       "194     2\n",
       "129     2\n",
       "188     2\n",
       "89      2\n",
       "108     2\n",
       "110     2\n",
       "119     2\n",
       "145     2\n",
       "153     2\n",
       "197     2\n",
       "113     2\n",
       "192     2\n",
       "87      2\n",
       "164     2\n",
       "81      2\n",
       "107     1\n",
       "98      1\n",
       "90      1\n",
       "231     1\n",
       "78      1\n",
       "77      1\n",
       "186     1\n",
       "121     1\n",
       "256     1\n",
       "142     1\n",
       "Name: normalized_losses, dtype: int64"
      ]
     },
     "execution_count": 7,
     "metadata": {},
     "output_type": "execute_result"
    }
   ],
   "source": [
    "# By verifying the value counts, we replacing '?' mark from the data set with 'NaN' and \n",
    "# Later we are removing the nulls from the given data set, by our regular method \n",
    "\n",
    "cp.normalized_losses.value_counts()"
   ]
  },
  {
   "cell_type": "code",
   "execution_count": 8,
   "metadata": {},
   "outputs": [],
   "source": [
    "import numpy as np"
   ]
  },
  {
   "cell_type": "code",
   "execution_count": 9,
   "metadata": {},
   "outputs": [],
   "source": [
    "# Use this 'replace' method to replace the '?' mark from the with 'nan' and convert it in to float \n",
    "\n",
    "cp.replace({\"normalized_losses\" : {'?' : np.nan}}, regex=False, inplace=True)\n",
    "cp.normalized_losses = cp.normalized_losses.astype('float')"
   ]
  },
  {
   "cell_type": "code",
   "execution_count": 10,
   "metadata": {},
   "outputs": [
    {
     "data": {
      "text/plain": [
       "gas       185\n",
       "diesel     20\n",
       "Name: Fuel_type, dtype: int64"
      ]
     },
     "execution_count": 10,
     "metadata": {},
     "output_type": "execute_result"
    }
   ],
   "source": [
    "cp.Fuel_type.value_counts()"
   ]
  },
  {
   "cell_type": "code",
   "execution_count": 11,
   "metadata": {},
   "outputs": [
    {
     "data": {
      "text/plain": [
       "std      168\n",
       "turbo     37\n",
       "Name: make, dtype: int64"
      ]
     },
     "execution_count": 11,
     "metadata": {},
     "output_type": "execute_result"
    }
   ],
   "source": [
    "cp.make.value_counts()"
   ]
  },
  {
   "cell_type": "code",
   "execution_count": 12,
   "metadata": {},
   "outputs": [
    {
     "data": {
      "text/plain": [
       "four    114\n",
       "two      89\n",
       "?         2\n",
       "Name: num_of_doors, dtype: int64"
      ]
     },
     "execution_count": 12,
     "metadata": {},
     "output_type": "execute_result"
    }
   ],
   "source": [
    "cp.num_of_doors.value_counts()"
   ]
  },
  {
   "cell_type": "code",
   "execution_count": 13,
   "metadata": {},
   "outputs": [],
   "source": [
    "cp.num_of_doors = cp.num_of_doors.replace({\"two\" : 0, \"four\" : 1})"
   ]
  },
  {
   "cell_type": "code",
   "execution_count": 14,
   "metadata": {},
   "outputs": [
    {
     "data": {
      "text/html": [
       "<div>\n",
       "<style scoped>\n",
       "    .dataframe tbody tr th:only-of-type {\n",
       "        vertical-align: middle;\n",
       "    }\n",
       "\n",
       "    .dataframe tbody tr th {\n",
       "        vertical-align: top;\n",
       "    }\n",
       "\n",
       "    .dataframe thead th {\n",
       "        text-align: right;\n",
       "    }\n",
       "</style>\n",
       "<table border=\"1\" class=\"dataframe\">\n",
       "  <thead>\n",
       "    <tr style=\"text-align: right;\">\n",
       "      <th></th>\n",
       "      <th>symboling</th>\n",
       "      <th>normalized_losses</th>\n",
       "      <th>Fuel_type</th>\n",
       "      <th>make</th>\n",
       "      <th>num_of_doors</th>\n",
       "      <th>aspiration</th>\n",
       "      <th>wheel_base</th>\n",
       "      <th>engine_location</th>\n",
       "      <th>drive_wheels</th>\n",
       "      <th>body_style</th>\n",
       "      <th>...</th>\n",
       "      <th>engine_size</th>\n",
       "      <th>fuel_system</th>\n",
       "      <th>bore</th>\n",
       "      <th>stroke</th>\n",
       "      <th>compression_ratio</th>\n",
       "      <th>horsepower</th>\n",
       "      <th>peak_rpm</th>\n",
       "      <th>city_mpg</th>\n",
       "      <th>highway_mpg</th>\n",
       "      <th>price</th>\n",
       "    </tr>\n",
       "  </thead>\n",
       "  <tbody>\n",
       "    <tr>\n",
       "      <th>0</th>\n",
       "      <td>3</td>\n",
       "      <td>NaN</td>\n",
       "      <td>gas</td>\n",
       "      <td>std</td>\n",
       "      <td>0</td>\n",
       "      <td>convertible</td>\n",
       "      <td>rwd</td>\n",
       "      <td>front</td>\n",
       "      <td>88.6</td>\n",
       "      <td>alfa-romero</td>\n",
       "      <td>...</td>\n",
       "      <td>130</td>\n",
       "      <td>mpfi</td>\n",
       "      <td>3.47</td>\n",
       "      <td>2.68</td>\n",
       "      <td>9.0</td>\n",
       "      <td>111</td>\n",
       "      <td>5000</td>\n",
       "      <td>21</td>\n",
       "      <td>27</td>\n",
       "      <td>13495</td>\n",
       "    </tr>\n",
       "    <tr>\n",
       "      <th>1</th>\n",
       "      <td>3</td>\n",
       "      <td>NaN</td>\n",
       "      <td>gas</td>\n",
       "      <td>std</td>\n",
       "      <td>0</td>\n",
       "      <td>convertible</td>\n",
       "      <td>rwd</td>\n",
       "      <td>front</td>\n",
       "      <td>88.6</td>\n",
       "      <td>alfa-romero</td>\n",
       "      <td>...</td>\n",
       "      <td>130</td>\n",
       "      <td>mpfi</td>\n",
       "      <td>3.47</td>\n",
       "      <td>2.68</td>\n",
       "      <td>9.0</td>\n",
       "      <td>111</td>\n",
       "      <td>5000</td>\n",
       "      <td>21</td>\n",
       "      <td>27</td>\n",
       "      <td>16500</td>\n",
       "    </tr>\n",
       "    <tr>\n",
       "      <th>2</th>\n",
       "      <td>1</td>\n",
       "      <td>NaN</td>\n",
       "      <td>gas</td>\n",
       "      <td>std</td>\n",
       "      <td>0</td>\n",
       "      <td>hatchback</td>\n",
       "      <td>rwd</td>\n",
       "      <td>front</td>\n",
       "      <td>94.5</td>\n",
       "      <td>alfa-romero</td>\n",
       "      <td>...</td>\n",
       "      <td>152</td>\n",
       "      <td>mpfi</td>\n",
       "      <td>2.68</td>\n",
       "      <td>3.47</td>\n",
       "      <td>9.0</td>\n",
       "      <td>154</td>\n",
       "      <td>5000</td>\n",
       "      <td>19</td>\n",
       "      <td>26</td>\n",
       "      <td>16500</td>\n",
       "    </tr>\n",
       "    <tr>\n",
       "      <th>3</th>\n",
       "      <td>2</td>\n",
       "      <td>164.0</td>\n",
       "      <td>gas</td>\n",
       "      <td>std</td>\n",
       "      <td>1</td>\n",
       "      <td>sedan</td>\n",
       "      <td>fwd</td>\n",
       "      <td>front</td>\n",
       "      <td>99.8</td>\n",
       "      <td>audi</td>\n",
       "      <td>...</td>\n",
       "      <td>109</td>\n",
       "      <td>mpfi</td>\n",
       "      <td>3.19</td>\n",
       "      <td>3.4</td>\n",
       "      <td>10.0</td>\n",
       "      <td>102</td>\n",
       "      <td>5500</td>\n",
       "      <td>24</td>\n",
       "      <td>30</td>\n",
       "      <td>13950</td>\n",
       "    </tr>\n",
       "    <tr>\n",
       "      <th>4</th>\n",
       "      <td>2</td>\n",
       "      <td>164.0</td>\n",
       "      <td>gas</td>\n",
       "      <td>std</td>\n",
       "      <td>1</td>\n",
       "      <td>sedan</td>\n",
       "      <td>4wd</td>\n",
       "      <td>front</td>\n",
       "      <td>99.4</td>\n",
       "      <td>audi</td>\n",
       "      <td>...</td>\n",
       "      <td>136</td>\n",
       "      <td>mpfi</td>\n",
       "      <td>3.19</td>\n",
       "      <td>3.4</td>\n",
       "      <td>8.0</td>\n",
       "      <td>115</td>\n",
       "      <td>5500</td>\n",
       "      <td>18</td>\n",
       "      <td>22</td>\n",
       "      <td>17450</td>\n",
       "    </tr>\n",
       "  </tbody>\n",
       "</table>\n",
       "<p>5 rows × 26 columns</p>\n",
       "</div>"
      ],
      "text/plain": [
       "   symboling  normalized_losses Fuel_type make num_of_doors   aspiration  \\\n",
       "0          3                NaN       gas  std            0  convertible   \n",
       "1          3                NaN       gas  std            0  convertible   \n",
       "2          1                NaN       gas  std            0    hatchback   \n",
       "3          2              164.0       gas  std            1        sedan   \n",
       "4          2              164.0       gas  std            1        sedan   \n",
       "\n",
       "  wheel_base engine_location  drive_wheels   body_style  ...  engine_size  \\\n",
       "0        rwd           front          88.6  alfa-romero  ...          130   \n",
       "1        rwd           front          88.6  alfa-romero  ...          130   \n",
       "2        rwd           front          94.5  alfa-romero  ...          152   \n",
       "3        fwd           front          99.8         audi  ...          109   \n",
       "4        4wd           front          99.4         audi  ...          136   \n",
       "\n",
       "   fuel_system  bore  stroke compression_ratio horsepower  peak_rpm city_mpg  \\\n",
       "0         mpfi  3.47    2.68               9.0        111      5000       21   \n",
       "1         mpfi  3.47    2.68               9.0        111      5000       21   \n",
       "2         mpfi  2.68    3.47               9.0        154      5000       19   \n",
       "3         mpfi  3.19     3.4              10.0        102      5500       24   \n",
       "4         mpfi  3.19     3.4               8.0        115      5500       18   \n",
       "\n",
       "  highway_mpg  price  \n",
       "0          27  13495  \n",
       "1          27  16500  \n",
       "2          26  16500  \n",
       "3          30  13950  \n",
       "4          22  17450  \n",
       "\n",
       "[5 rows x 26 columns]"
      ]
     },
     "execution_count": 14,
     "metadata": {},
     "output_type": "execute_result"
    }
   ],
   "source": [
    "cp.head()"
   ]
  },
  {
   "cell_type": "code",
   "execution_count": 15,
   "metadata": {},
   "outputs": [
    {
     "data": {
      "text/plain": [
       "1    114\n",
       "0     89\n",
       "?      2\n",
       "Name: num_of_doors, dtype: int64"
      ]
     },
     "execution_count": 15,
     "metadata": {},
     "output_type": "execute_result"
    }
   ],
   "source": [
    "cp.num_of_doors.value_counts()"
   ]
  },
  {
   "cell_type": "code",
   "execution_count": 16,
   "metadata": {},
   "outputs": [],
   "source": [
    "cp.replace({\"num_of_doors\" : {'?' : np.nan}}, regex=False, inplace=True)\n",
    "cp.num_of_doors = cp.num_of_doors.astype('float')"
   ]
  },
  {
   "cell_type": "code",
   "execution_count": 17,
   "metadata": {},
   "outputs": [
    {
     "data": {
      "text/plain": [
       "sedan          96\n",
       "hatchback      70\n",
       "wagon          25\n",
       "hardtop         8\n",
       "convertible     6\n",
       "Name: aspiration, dtype: int64"
      ]
     },
     "execution_count": 17,
     "metadata": {},
     "output_type": "execute_result"
    }
   ],
   "source": [
    "cp.aspiration.value_counts()"
   ]
  },
  {
   "cell_type": "code",
   "execution_count": 18,
   "metadata": {},
   "outputs": [
    {
     "data": {
      "text/plain": [
       "fwd    120\n",
       "rwd     76\n",
       "4wd      9\n",
       "Name: wheel_base, dtype: int64"
      ]
     },
     "execution_count": 18,
     "metadata": {},
     "output_type": "execute_result"
    }
   ],
   "source": [
    "cp.wheel_base.value_counts()"
   ]
  },
  {
   "cell_type": "code",
   "execution_count": 19,
   "metadata": {},
   "outputs": [
    {
     "data": {
      "text/plain": [
       "front    202\n",
       "rear       3\n",
       "Name: engine_location, dtype: int64"
      ]
     },
     "execution_count": 19,
     "metadata": {},
     "output_type": "execute_result"
    }
   ],
   "source": [
    "cp.engine_location.value_counts()"
   ]
  },
  {
   "cell_type": "code",
   "execution_count": 20,
   "metadata": {},
   "outputs": [
    {
     "data": {
      "text/plain": [
       "94.5     21\n",
       "93.7     20\n",
       "95.7     13\n",
       "96.5      8\n",
       "98.4      7\n",
       "97.3      7\n",
       "96.3      6\n",
       "107.9     6\n",
       "98.8      6\n",
       "99.1      6\n",
       "104.3     6\n",
       "100.4     6\n",
       "93.1      5\n",
       "97.2      5\n",
       "102.4     5\n",
       "109.1     5\n",
       "95.9      5\n",
       "101.2     4\n",
       "97.0      4\n",
       "114.2     4\n",
       "95.3      4\n",
       "105.8     3\n",
       "103.5     3\n",
       "110.0     3\n",
       "89.5      3\n",
       "99.8      2\n",
       "86.6      2\n",
       "113.0     2\n",
       "104.5     2\n",
       "104.9     2\n",
       "88.6      2\n",
       "96.9      2\n",
       "91.3      2\n",
       "115.6     2\n",
       "102.9     2\n",
       "96.1      2\n",
       "103.3     2\n",
       "112.0     1\n",
       "99.5      1\n",
       "88.4      1\n",
       "99.2      1\n",
       "96.0      1\n",
       "102.0     1\n",
       "106.7     1\n",
       "93.0      1\n",
       "99.4      1\n",
       "93.3      1\n",
       "102.7     1\n",
       "120.9     1\n",
       "95.1      1\n",
       "96.6      1\n",
       "94.3      1\n",
       "108.0     1\n",
       "Name: drive_wheels, dtype: int64"
      ]
     },
     "execution_count": 20,
     "metadata": {},
     "output_type": "execute_result"
    }
   ],
   "source": [
    "cp.drive_wheels.value_counts()"
   ]
  },
  {
   "cell_type": "code",
   "execution_count": 21,
   "metadata": {},
   "outputs": [
    {
     "data": {
      "text/plain": [
       "Index(['symboling', 'normalized_losses', 'Fuel_type', 'make', 'num_of_doors',\n",
       "       'aspiration', 'wheel_base', 'engine_location', 'drive_wheels',\n",
       "       'body_style', 'length', 'width', 'height', 'curb_weight', 'engine_type',\n",
       "       'num_of_cylinders', 'engine_size', 'fuel_system', 'bore', 'stroke',\n",
       "       'compression_ratio', 'horsepower', 'peak_rpm', 'city_mpg',\n",
       "       'highway_mpg', 'price'],\n",
       "      dtype='object')"
      ]
     },
     "execution_count": 21,
     "metadata": {},
     "output_type": "execute_result"
    }
   ],
   "source": [
    "cp.columns"
   ]
  },
  {
   "cell_type": "code",
   "execution_count": 22,
   "metadata": {},
   "outputs": [
    {
     "data": {
      "text/plain": [
       "toyota           32\n",
       "nissan           18\n",
       "mazda            17\n",
       "honda            13\n",
       "mitsubishi       13\n",
       "volkswagen       12\n",
       "subaru           12\n",
       "volvo            11\n",
       "peugot           11\n",
       "dodge             9\n",
       "mercedes-benz     8\n",
       "bmw               8\n",
       "audi              7\n",
       "plymouth          7\n",
       "saab              6\n",
       "porsche           5\n",
       "isuzu             4\n",
       "chevrolet         3\n",
       "jaguar            3\n",
       "alfa-romero       3\n",
       "renault           2\n",
       "mercury           1\n",
       "Name: body_style, dtype: int64"
      ]
     },
     "execution_count": 22,
     "metadata": {},
     "output_type": "execute_result"
    }
   ],
   "source": [
    "cp.body_style.value_counts()"
   ]
  },
  {
   "cell_type": "code",
   "execution_count": 23,
   "metadata": {},
   "outputs": [
    {
     "data": {
      "text/plain": [
       "157.3    15\n",
       "188.8    11\n",
       "166.3     7\n",
       "171.7     7\n",
       "186.7     7\n",
       "         ..\n",
       "157.9     1\n",
       "177.3     1\n",
       "175.7     1\n",
       "193.8     1\n",
       "183.1     1\n",
       "Name: length, Length: 75, dtype: int64"
      ]
     },
     "execution_count": 23,
     "metadata": {},
     "output_type": "execute_result"
    }
   ],
   "source": [
    "cp.length.value_counts()"
   ]
  },
  {
   "cell_type": "code",
   "execution_count": 24,
   "metadata": {},
   "outputs": [
    {
     "data": {
      "text/plain": [
       "63.8    24\n",
       "66.5    23\n",
       "65.4    15\n",
       "63.6    11\n",
       "64.4    10\n",
       "68.4    10\n",
       "64.0     9\n",
       "65.5     8\n",
       "65.2     7\n",
       "66.3     6\n",
       "64.2     6\n",
       "67.2     6\n",
       "65.6     6\n",
       "67.9     5\n",
       "66.9     5\n",
       "68.9     4\n",
       "64.8     4\n",
       "65.7     4\n",
       "65.0     3\n",
       "63.9     3\n",
       "71.4     3\n",
       "71.7     3\n",
       "70.3     3\n",
       "64.6     2\n",
       "64.1     2\n",
       "67.7     2\n",
       "66.1     2\n",
       "68.3     2\n",
       "69.6     2\n",
       "61.8     1\n",
       "72.0     1\n",
       "68.8     1\n",
       "62.5     1\n",
       "66.0     1\n",
       "63.4     1\n",
       "70.5     1\n",
       "72.3     1\n",
       "68.0     1\n",
       "70.9     1\n",
       "66.2     1\n",
       "66.4     1\n",
       "60.3     1\n",
       "70.6     1\n",
       "66.6     1\n",
       "Name: width, dtype: int64"
      ]
     },
     "execution_count": 24,
     "metadata": {},
     "output_type": "execute_result"
    }
   ],
   "source": [
    "cp.width.value_counts()"
   ]
  },
  {
   "cell_type": "code",
   "execution_count": 25,
   "metadata": {},
   "outputs": [
    {
     "data": {
      "text/plain": [
       "50.8    14\n",
       "52.0    12\n",
       "55.7    12\n",
       "54.5    10\n",
       "54.1    10\n",
       "55.5     9\n",
       "56.7     8\n",
       "54.3     8\n",
       "51.6     7\n",
       "56.1     7\n",
       "52.6     7\n",
       "50.2     6\n",
       "53.0     6\n",
       "54.9     6\n",
       "52.8     6\n",
       "53.7     5\n",
       "55.1     5\n",
       "50.6     5\n",
       "53.3     4\n",
       "58.7     4\n",
       "49.6     4\n",
       "57.5     3\n",
       "53.5     3\n",
       "49.7     3\n",
       "59.1     3\n",
       "56.2     3\n",
       "52.5     3\n",
       "49.4     2\n",
       "48.8     2\n",
       "56.3     2\n",
       "54.4     2\n",
       "59.8     2\n",
       "56.5     2\n",
       "54.7     2\n",
       "51.4     2\n",
       "53.9     2\n",
       "50.5     2\n",
       "56.0     1\n",
       "51.0     1\n",
       "52.4     1\n",
       "55.4     1\n",
       "55.6     1\n",
       "53.1     1\n",
       "58.3     1\n",
       "47.8     1\n",
       "54.8     1\n",
       "55.9     1\n",
       "53.2     1\n",
       "55.2     1\n",
       "Name: height, dtype: int64"
      ]
     },
     "execution_count": 25,
     "metadata": {},
     "output_type": "execute_result"
    }
   ],
   "source": [
    "cp.height.value_counts()"
   ]
  },
  {
   "cell_type": "code",
   "execution_count": 26,
   "metadata": {},
   "outputs": [
    {
     "data": {
      "text/plain": [
       "2385    4\n",
       "1989    3\n",
       "1918    3\n",
       "2275    3\n",
       "3230    2\n",
       "       ..\n",
       "3750    1\n",
       "1956    1\n",
       "2037    1\n",
       "2465    1\n",
       "2304    1\n",
       "Name: curb_weight, Length: 171, dtype: int64"
      ]
     },
     "execution_count": 26,
     "metadata": {},
     "output_type": "execute_result"
    }
   ],
   "source": [
    "cp.curb_weight.value_counts()"
   ]
  },
  {
   "cell_type": "code",
   "execution_count": 27,
   "metadata": {},
   "outputs": [
    {
     "data": {
      "text/plain": [
       "ohc      148\n",
       "ohcf      15\n",
       "ohcv      13\n",
       "dohc      12\n",
       "l         12\n",
       "rotor      4\n",
       "dohcv      1\n",
       "Name: engine_type, dtype: int64"
      ]
     },
     "execution_count": 27,
     "metadata": {},
     "output_type": "execute_result"
    }
   ],
   "source": [
    "cp.engine_type.value_counts()"
   ]
  },
  {
   "cell_type": "code",
   "execution_count": 28,
   "metadata": {},
   "outputs": [
    {
     "data": {
      "text/plain": [
       "Index(['symboling', 'normalized_losses', 'Fuel_type', 'make', 'num_of_doors',\n",
       "       'aspiration', 'wheel_base', 'engine_location', 'drive_wheels',\n",
       "       'body_style', 'length', 'width', 'height', 'curb_weight', 'engine_type',\n",
       "       'num_of_cylinders', 'engine_size', 'fuel_system', 'bore', 'stroke',\n",
       "       'compression_ratio', 'horsepower', 'peak_rpm', 'city_mpg',\n",
       "       'highway_mpg', 'price'],\n",
       "      dtype='object')"
      ]
     },
     "execution_count": 28,
     "metadata": {},
     "output_type": "execute_result"
    }
   ],
   "source": [
    "cp.columns"
   ]
  },
  {
   "cell_type": "code",
   "execution_count": 29,
   "metadata": {},
   "outputs": [
    {
     "data": {
      "text/plain": [
       "four      159\n",
       "six        24\n",
       "five       11\n",
       "eight       5\n",
       "two         4\n",
       "twelve      1\n",
       "three       1\n",
       "Name: num_of_cylinders, dtype: int64"
      ]
     },
     "execution_count": 29,
     "metadata": {},
     "output_type": "execute_result"
    }
   ],
   "source": [
    "cp.num_of_cylinders.value_counts()"
   ]
  },
  {
   "cell_type": "code",
   "execution_count": 30,
   "metadata": {},
   "outputs": [
    {
     "data": {
      "text/plain": [
       "122    15\n",
       "92     15\n",
       "98     14\n",
       "97     14\n",
       "108    13\n",
       "90     12\n",
       "110    12\n",
       "109     8\n",
       "120     7\n",
       "141     7\n",
       "152     6\n",
       "121     6\n",
       "146     6\n",
       "181     6\n",
       "91      5\n",
       "156     5\n",
       "136     5\n",
       "130     4\n",
       "183     4\n",
       "194     3\n",
       "164     3\n",
       "171     3\n",
       "209     3\n",
       "70      3\n",
       "234     2\n",
       "131     2\n",
       "134     2\n",
       "140     2\n",
       "258     2\n",
       "132     2\n",
       "111     1\n",
       "103     1\n",
       "145     1\n",
       "151     1\n",
       "119     1\n",
       "173     1\n",
       "203     1\n",
       "80      1\n",
       "79      1\n",
       "326     1\n",
       "61      1\n",
       "308     1\n",
       "304     1\n",
       "161     1\n",
       "Name: engine_size, dtype: int64"
      ]
     },
     "execution_count": 30,
     "metadata": {},
     "output_type": "execute_result"
    }
   ],
   "source": [
    "cp.engine_size.value_counts()"
   ]
  },
  {
   "cell_type": "code",
   "execution_count": 31,
   "metadata": {},
   "outputs": [
    {
     "data": {
      "text/plain": [
       "mpfi    94\n",
       "2bbl    66\n",
       "idi     20\n",
       "1bbl    11\n",
       "spdi     9\n",
       "4bbl     3\n",
       "mfi      1\n",
       "spfi     1\n",
       "Name: fuel_system, dtype: int64"
      ]
     },
     "execution_count": 31,
     "metadata": {},
     "output_type": "execute_result"
    }
   ],
   "source": [
    "cp.fuel_system.value_counts()"
   ]
  },
  {
   "cell_type": "code",
   "execution_count": 32,
   "metadata": {},
   "outputs": [
    {
     "data": {
      "text/plain": [
       "3.62    23\n",
       "3.19    20\n",
       "3.15    15\n",
       "2.97    12\n",
       "3.03    12\n",
       "3.46     9\n",
       "3.78     8\n",
       "3.43     8\n",
       "3.31     8\n",
       "2.91     7\n",
       "3.27     7\n",
       "3.58     6\n",
       "3.39     6\n",
       "3.05     6\n",
       "3.54     6\n",
       "3.01     5\n",
       "3.7      5\n",
       "?        4\n",
       "3.35     4\n",
       "3.74     3\n",
       "3.59     3\n",
       "3.17     3\n",
       "3.47     2\n",
       "3.5      2\n",
       "3.24     2\n",
       "3.94     2\n",
       "3.63     2\n",
       "3.33     2\n",
       "3.8      2\n",
       "3.13     2\n",
       "3.6      1\n",
       "2.68     1\n",
       "3.61     1\n",
       "2.92     1\n",
       "3.76     1\n",
       "3.08     1\n",
       "3.34     1\n",
       "2.99     1\n",
       "2.54     1\n",
       "Name: bore, dtype: int64"
      ]
     },
     "execution_count": 32,
     "metadata": {},
     "output_type": "execute_result"
    }
   ],
   "source": [
    "cp.bore.value_counts()"
   ]
  },
  {
   "cell_type": "code",
   "execution_count": 33,
   "metadata": {},
   "outputs": [],
   "source": [
    "cp.replace({\"bore\" : {'?' : np.nan}}, regex=False, inplace=True)\n",
    "cp.bore = cp.bore.astype('float')"
   ]
  },
  {
   "cell_type": "code",
   "execution_count": 34,
   "metadata": {},
   "outputs": [
    {
     "data": {
      "text/plain": [
       "3.4     20\n",
       "3.15    14\n",
       "3.23    14\n",
       "3.03    14\n",
       "3.39    13\n",
       "2.64    11\n",
       "3.35     9\n",
       "3.29     9\n",
       "3.46     8\n",
       "3.11     6\n",
       "3.27     6\n",
       "3.19     6\n",
       "3.41     6\n",
       "3.58     6\n",
       "3.5      6\n",
       "3.07     6\n",
       "3.64     5\n",
       "3.52     5\n",
       "3.86     4\n",
       "3.47     4\n",
       "3.54     4\n",
       "?        4\n",
       "3.9      3\n",
       "2.9      3\n",
       "3.08     2\n",
       "4.17     2\n",
       "3.1      2\n",
       "2.68     2\n",
       "2.8      2\n",
       "2.19     2\n",
       "2.76     1\n",
       "2.36     1\n",
       "2.07     1\n",
       "3.12     1\n",
       "2.87     1\n",
       "3.16     1\n",
       "3.21     1\n",
       "Name: stroke, dtype: int64"
      ]
     },
     "execution_count": 34,
     "metadata": {},
     "output_type": "execute_result"
    }
   ],
   "source": [
    "cp.stroke.value_counts()"
   ]
  },
  {
   "cell_type": "code",
   "execution_count": 35,
   "metadata": {},
   "outputs": [],
   "source": [
    "cp.replace({\"stroke\" : {'?' : np.nan}} ,  regex=False, inplace=True)\n",
    "cp.stroke = cp.stroke.astype('float')"
   ]
  },
  {
   "cell_type": "code",
   "execution_count": 36,
   "metadata": {},
   "outputs": [
    {
     "data": {
      "text/plain": [
       "Index(['symboling', 'normalized_losses', 'Fuel_type', 'make', 'num_of_doors',\n",
       "       'aspiration', 'wheel_base', 'engine_location', 'drive_wheels',\n",
       "       'body_style', 'length', 'width', 'height', 'curb_weight', 'engine_type',\n",
       "       'num_of_cylinders', 'engine_size', 'fuel_system', 'bore', 'stroke',\n",
       "       'compression_ratio', 'horsepower', 'peak_rpm', 'city_mpg',\n",
       "       'highway_mpg', 'price'],\n",
       "      dtype='object')"
      ]
     },
     "execution_count": 36,
     "metadata": {},
     "output_type": "execute_result"
    }
   ],
   "source": [
    "cp.columns"
   ]
  },
  {
   "cell_type": "code",
   "execution_count": 37,
   "metadata": {},
   "outputs": [
    {
     "data": {
      "text/plain": [
       "9.00     46\n",
       "9.40     26\n",
       "8.50     14\n",
       "9.50     13\n",
       "9.30     11\n",
       "8.70      9\n",
       "9.20      8\n",
       "8.00      8\n",
       "7.00      7\n",
       "21.00     5\n",
       "7.50      5\n",
       "9.60      5\n",
       "23.00     5\n",
       "8.40      5\n",
       "8.60      5\n",
       "21.50     4\n",
       "7.60      4\n",
       "10.00     3\n",
       "22.50     3\n",
       "8.30      3\n",
       "8.80      3\n",
       "7.70      2\n",
       "8.10      2\n",
       "9.31      1\n",
       "21.90     1\n",
       "22.00     1\n",
       "11.50     1\n",
       "9.41      1\n",
       "10.10     1\n",
       "9.10      1\n",
       "22.70     1\n",
       "7.80      1\n",
       "Name: compression_ratio, dtype: int64"
      ]
     },
     "execution_count": 37,
     "metadata": {},
     "output_type": "execute_result"
    }
   ],
   "source": [
    "cp.compression_ratio.value_counts()"
   ]
  },
  {
   "cell_type": "code",
   "execution_count": 38,
   "metadata": {},
   "outputs": [
    {
     "data": {
      "text/plain": [
       "68     19\n",
       "70     11\n",
       "69     10\n",
       "116     9\n",
       "110     8\n",
       "95      7\n",
       "101     6\n",
       "160     6\n",
       "62      6\n",
       "114     6\n",
       "88      6\n",
       "145     5\n",
       "82      5\n",
       "76      5\n",
       "97      5\n",
       "84      5\n",
       "102     5\n",
       "123     4\n",
       "92      4\n",
       "86      4\n",
       "111     4\n",
       "85      3\n",
       "182     3\n",
       "207     3\n",
       "90      3\n",
       "121     3\n",
       "152     3\n",
       "73      3\n",
       "112     2\n",
       "161     2\n",
       "176     2\n",
       "52      2\n",
       "162     2\n",
       "?       2\n",
       "56      2\n",
       "184     2\n",
       "156     2\n",
       "155     2\n",
       "94      2\n",
       "100     2\n",
       "200     1\n",
       "143     1\n",
       "115     1\n",
       "58      1\n",
       "60      1\n",
       "140     1\n",
       "48      1\n",
       "78      1\n",
       "120     1\n",
       "134     1\n",
       "175     1\n",
       "106     1\n",
       "142     1\n",
       "135     1\n",
       "55      1\n",
       "64      1\n",
       "288     1\n",
       "154     1\n",
       "72      1\n",
       "262     1\n",
       "Name: horsepower, dtype: int64"
      ]
     },
     "execution_count": 38,
     "metadata": {},
     "output_type": "execute_result"
    }
   ],
   "source": [
    "cp.horsepower.value_counts()"
   ]
  },
  {
   "cell_type": "code",
   "execution_count": 39,
   "metadata": {},
   "outputs": [],
   "source": [
    "cp.replace({\"horsepower\" : {'?' : np.nan}}, regex=False, inplace=True)\n",
    "cp.horsepower = cp.horsepower.astype('float')"
   ]
  },
  {
   "cell_type": "code",
   "execution_count": 40,
   "metadata": {},
   "outputs": [
    {
     "data": {
      "text/plain": [
       "5500    37\n",
       "4800    36\n",
       "5000    27\n",
       "5200    23\n",
       "5400    13\n",
       "6000     9\n",
       "4500     7\n",
       "5250     7\n",
       "5800     7\n",
       "4200     5\n",
       "4150     5\n",
       "4350     4\n",
       "4750     4\n",
       "4250     3\n",
       "5900     3\n",
       "5100     3\n",
       "4400     3\n",
       "6600     2\n",
       "?        2\n",
       "5300     1\n",
       "4650     1\n",
       "5750     1\n",
       "4900     1\n",
       "5600     1\n",
       "Name: peak_rpm, dtype: int64"
      ]
     },
     "execution_count": 40,
     "metadata": {},
     "output_type": "execute_result"
    }
   ],
   "source": [
    "cp.peak_rpm.value_counts()"
   ]
  },
  {
   "cell_type": "code",
   "execution_count": 41,
   "metadata": {},
   "outputs": [],
   "source": [
    "cp.replace({\"peak_rpm\" : {'?' : np.nan}} , regex=False, inplace=True)\n",
    "cp.peak_rpm = cp.peak_rpm.astype('float')"
   ]
  },
  {
   "cell_type": "code",
   "execution_count": 42,
   "metadata": {},
   "outputs": [
    {
     "data": {
      "text/plain": [
       "31    28\n",
       "19    27\n",
       "24    22\n",
       "27    14\n",
       "17    13\n",
       "26    12\n",
       "23    12\n",
       "21     8\n",
       "30     8\n",
       "25     8\n",
       "38     7\n",
       "28     7\n",
       "37     6\n",
       "16     6\n",
       "22     4\n",
       "15     3\n",
       "18     3\n",
       "29     3\n",
       "20     3\n",
       "14     2\n",
       "49     1\n",
       "47     1\n",
       "32     1\n",
       "33     1\n",
       "34     1\n",
       "35     1\n",
       "36     1\n",
       "45     1\n",
       "13     1\n",
       "Name: city_mpg, dtype: int64"
      ]
     },
     "execution_count": 42,
     "metadata": {},
     "output_type": "execute_result"
    }
   ],
   "source": [
    "cp.city_mpg.value_counts()"
   ]
  },
  {
   "cell_type": "code",
   "execution_count": 43,
   "metadata": {},
   "outputs": [
    {
     "data": {
      "text/plain": [
       "25    19\n",
       "24    17\n",
       "38    17\n",
       "30    16\n",
       "32    16\n",
       "34    14\n",
       "37    13\n",
       "28    13\n",
       "29    10\n",
       "33     9\n",
       "31     8\n",
       "22     8\n",
       "23     7\n",
       "27     5\n",
       "43     4\n",
       "41     3\n",
       "42     3\n",
       "26     3\n",
       "20     2\n",
       "19     2\n",
       "18     2\n",
       "16     2\n",
       "36     2\n",
       "39     2\n",
       "46     2\n",
       "47     2\n",
       "53     1\n",
       "50     1\n",
       "17     1\n",
       "54     1\n",
       "Name: highway_mpg, dtype: int64"
      ]
     },
     "execution_count": 43,
     "metadata": {},
     "output_type": "execute_result"
    }
   ],
   "source": [
    "cp.highway_mpg.value_counts()"
   ]
  },
  {
   "cell_type": "code",
   "execution_count": 44,
   "metadata": {},
   "outputs": [
    {
     "data": {
      "text/plain": [
       "?        4\n",
       "7609     2\n",
       "5572     2\n",
       "6692     2\n",
       "18150    2\n",
       "        ..\n",
       "15645    1\n",
       "16503    1\n",
       "11595    1\n",
       "6938     1\n",
       "18399    1\n",
       "Name: price, Length: 187, dtype: int64"
      ]
     },
     "execution_count": 44,
     "metadata": {},
     "output_type": "execute_result"
    }
   ],
   "source": [
    "cp.price.value_counts()"
   ]
  },
  {
   "cell_type": "code",
   "execution_count": 45,
   "metadata": {},
   "outputs": [],
   "source": [
    "cp.replace({\"price\" : {'?' : np.nan}}, regex=False, inplace=True)\n",
    "cp.price = cp.price.astype('float')"
   ]
  },
  {
   "cell_type": "code",
   "execution_count": 46,
   "metadata": {},
   "outputs": [
    {
     "data": {
      "text/plain": [
       "symboling             0\n",
       "normalized_losses    41\n",
       "Fuel_type             0\n",
       "make                  0\n",
       "num_of_doors          2\n",
       "aspiration            0\n",
       "wheel_base            0\n",
       "engine_location       0\n",
       "drive_wheels          0\n",
       "body_style            0\n",
       "length                0\n",
       "width                 0\n",
       "height                0\n",
       "curb_weight           0\n",
       "engine_type           0\n",
       "num_of_cylinders      0\n",
       "engine_size           0\n",
       "fuel_system           0\n",
       "bore                  4\n",
       "stroke                4\n",
       "compression_ratio     0\n",
       "horsepower            2\n",
       "peak_rpm              2\n",
       "city_mpg              0\n",
       "highway_mpg           0\n",
       "price                 4\n",
       "dtype: int64"
      ]
     },
     "execution_count": 46,
     "metadata": {},
     "output_type": "execute_result"
    }
   ],
   "source": [
    "# Now, check for the nulls in the data set newly formed. \n",
    "\n",
    "cp.isnull().sum()"
   ]
  },
  {
   "cell_type": "code",
   "execution_count": 47,
   "metadata": {},
   "outputs": [
    {
     "data": {
      "text/html": [
       "<div>\n",
       "<style scoped>\n",
       "    .dataframe tbody tr th:only-of-type {\n",
       "        vertical-align: middle;\n",
       "    }\n",
       "\n",
       "    .dataframe tbody tr th {\n",
       "        vertical-align: top;\n",
       "    }\n",
       "\n",
       "    .dataframe thead th {\n",
       "        text-align: right;\n",
       "    }\n",
       "</style>\n",
       "<table border=\"1\" class=\"dataframe\">\n",
       "  <thead>\n",
       "    <tr style=\"text-align: right;\">\n",
       "      <th></th>\n",
       "      <th>symboling</th>\n",
       "      <th>normalized_losses</th>\n",
       "      <th>Fuel_type</th>\n",
       "      <th>make</th>\n",
       "      <th>num_of_doors</th>\n",
       "      <th>aspiration</th>\n",
       "      <th>wheel_base</th>\n",
       "      <th>engine_location</th>\n",
       "      <th>drive_wheels</th>\n",
       "      <th>body_style</th>\n",
       "      <th>...</th>\n",
       "      <th>engine_size</th>\n",
       "      <th>fuel_system</th>\n",
       "      <th>bore</th>\n",
       "      <th>stroke</th>\n",
       "      <th>compression_ratio</th>\n",
       "      <th>horsepower</th>\n",
       "      <th>peak_rpm</th>\n",
       "      <th>city_mpg</th>\n",
       "      <th>highway_mpg</th>\n",
       "      <th>price</th>\n",
       "    </tr>\n",
       "  </thead>\n",
       "  <tbody>\n",
       "    <tr>\n",
       "      <th>0</th>\n",
       "      <td>3</td>\n",
       "      <td>NaN</td>\n",
       "      <td>gas</td>\n",
       "      <td>std</td>\n",
       "      <td>0.0</td>\n",
       "      <td>convertible</td>\n",
       "      <td>rwd</td>\n",
       "      <td>front</td>\n",
       "      <td>88.6</td>\n",
       "      <td>alfa-romero</td>\n",
       "      <td>...</td>\n",
       "      <td>130</td>\n",
       "      <td>mpfi</td>\n",
       "      <td>3.47</td>\n",
       "      <td>2.68</td>\n",
       "      <td>9.0</td>\n",
       "      <td>111.0</td>\n",
       "      <td>5000.0</td>\n",
       "      <td>21</td>\n",
       "      <td>27</td>\n",
       "      <td>13495.0</td>\n",
       "    </tr>\n",
       "    <tr>\n",
       "      <th>1</th>\n",
       "      <td>3</td>\n",
       "      <td>NaN</td>\n",
       "      <td>gas</td>\n",
       "      <td>std</td>\n",
       "      <td>0.0</td>\n",
       "      <td>convertible</td>\n",
       "      <td>rwd</td>\n",
       "      <td>front</td>\n",
       "      <td>88.6</td>\n",
       "      <td>alfa-romero</td>\n",
       "      <td>...</td>\n",
       "      <td>130</td>\n",
       "      <td>mpfi</td>\n",
       "      <td>3.47</td>\n",
       "      <td>2.68</td>\n",
       "      <td>9.0</td>\n",
       "      <td>111.0</td>\n",
       "      <td>5000.0</td>\n",
       "      <td>21</td>\n",
       "      <td>27</td>\n",
       "      <td>16500.0</td>\n",
       "    </tr>\n",
       "    <tr>\n",
       "      <th>2</th>\n",
       "      <td>1</td>\n",
       "      <td>NaN</td>\n",
       "      <td>gas</td>\n",
       "      <td>std</td>\n",
       "      <td>0.0</td>\n",
       "      <td>hatchback</td>\n",
       "      <td>rwd</td>\n",
       "      <td>front</td>\n",
       "      <td>94.5</td>\n",
       "      <td>alfa-romero</td>\n",
       "      <td>...</td>\n",
       "      <td>152</td>\n",
       "      <td>mpfi</td>\n",
       "      <td>2.68</td>\n",
       "      <td>3.47</td>\n",
       "      <td>9.0</td>\n",
       "      <td>154.0</td>\n",
       "      <td>5000.0</td>\n",
       "      <td>19</td>\n",
       "      <td>26</td>\n",
       "      <td>16500.0</td>\n",
       "    </tr>\n",
       "    <tr>\n",
       "      <th>3</th>\n",
       "      <td>2</td>\n",
       "      <td>164.0</td>\n",
       "      <td>gas</td>\n",
       "      <td>std</td>\n",
       "      <td>1.0</td>\n",
       "      <td>sedan</td>\n",
       "      <td>fwd</td>\n",
       "      <td>front</td>\n",
       "      <td>99.8</td>\n",
       "      <td>audi</td>\n",
       "      <td>...</td>\n",
       "      <td>109</td>\n",
       "      <td>mpfi</td>\n",
       "      <td>3.19</td>\n",
       "      <td>3.40</td>\n",
       "      <td>10.0</td>\n",
       "      <td>102.0</td>\n",
       "      <td>5500.0</td>\n",
       "      <td>24</td>\n",
       "      <td>30</td>\n",
       "      <td>13950.0</td>\n",
       "    </tr>\n",
       "    <tr>\n",
       "      <th>4</th>\n",
       "      <td>2</td>\n",
       "      <td>164.0</td>\n",
       "      <td>gas</td>\n",
       "      <td>std</td>\n",
       "      <td>1.0</td>\n",
       "      <td>sedan</td>\n",
       "      <td>4wd</td>\n",
       "      <td>front</td>\n",
       "      <td>99.4</td>\n",
       "      <td>audi</td>\n",
       "      <td>...</td>\n",
       "      <td>136</td>\n",
       "      <td>mpfi</td>\n",
       "      <td>3.19</td>\n",
       "      <td>3.40</td>\n",
       "      <td>8.0</td>\n",
       "      <td>115.0</td>\n",
       "      <td>5500.0</td>\n",
       "      <td>18</td>\n",
       "      <td>22</td>\n",
       "      <td>17450.0</td>\n",
       "    </tr>\n",
       "  </tbody>\n",
       "</table>\n",
       "<p>5 rows × 26 columns</p>\n",
       "</div>"
      ],
      "text/plain": [
       "   symboling  normalized_losses Fuel_type make  num_of_doors   aspiration  \\\n",
       "0          3                NaN       gas  std           0.0  convertible   \n",
       "1          3                NaN       gas  std           0.0  convertible   \n",
       "2          1                NaN       gas  std           0.0    hatchback   \n",
       "3          2              164.0       gas  std           1.0        sedan   \n",
       "4          2              164.0       gas  std           1.0        sedan   \n",
       "\n",
       "  wheel_base engine_location  drive_wheels   body_style  ...  engine_size  \\\n",
       "0        rwd           front          88.6  alfa-romero  ...          130   \n",
       "1        rwd           front          88.6  alfa-romero  ...          130   \n",
       "2        rwd           front          94.5  alfa-romero  ...          152   \n",
       "3        fwd           front          99.8         audi  ...          109   \n",
       "4        4wd           front          99.4         audi  ...          136   \n",
       "\n",
       "   fuel_system  bore  stroke compression_ratio horsepower  peak_rpm city_mpg  \\\n",
       "0         mpfi  3.47    2.68               9.0      111.0    5000.0       21   \n",
       "1         mpfi  3.47    2.68               9.0      111.0    5000.0       21   \n",
       "2         mpfi  2.68    3.47               9.0      154.0    5000.0       19   \n",
       "3         mpfi  3.19    3.40              10.0      102.0    5500.0       24   \n",
       "4         mpfi  3.19    3.40               8.0      115.0    5500.0       18   \n",
       "\n",
       "   highway_mpg    price  \n",
       "0           27  13495.0  \n",
       "1           27  16500.0  \n",
       "2           26  16500.0  \n",
       "3           30  13950.0  \n",
       "4           22  17450.0  \n",
       "\n",
       "[5 rows x 26 columns]"
      ]
     },
     "execution_count": 47,
     "metadata": {},
     "output_type": "execute_result"
    }
   ],
   "source": [
    "cp.head()"
   ]
  },
  {
   "cell_type": "code",
   "execution_count": 48,
   "metadata": {},
   "outputs": [],
   "source": [
    "cp.normalized_losses = cp.normalized_losses.fillna(cp.normalized_losses.mean())"
   ]
  },
  {
   "cell_type": "code",
   "execution_count": 49,
   "metadata": {},
   "outputs": [
    {
     "data": {
      "text/plain": [
       "1.0    114\n",
       "0.0     89\n",
       "Name: num_of_doors, dtype: int64"
      ]
     },
     "execution_count": 49,
     "metadata": {},
     "output_type": "execute_result"
    }
   ],
   "source": [
    "cp.num_of_doors.value_counts()"
   ]
  },
  {
   "cell_type": "code",
   "execution_count": 50,
   "metadata": {},
   "outputs": [],
   "source": [
    "cp.num_of_doors = cp.num_of_doors.fillna(1)"
   ]
  },
  {
   "cell_type": "code",
   "execution_count": 51,
   "metadata": {},
   "outputs": [
    {
     "data": {
      "text/plain": [
       "3.62    23\n",
       "3.19    20\n",
       "3.15    15\n",
       "2.97    12\n",
       "3.03    12\n",
       "3.46     9\n",
       "3.78     8\n",
       "3.31     8\n",
       "3.43     8\n",
       "2.91     7\n",
       "3.27     7\n",
       "3.05     6\n",
       "3.58     6\n",
       "3.39     6\n",
       "3.54     6\n",
       "3.01     5\n",
       "3.70     5\n",
       "3.35     4\n",
       "3.74     3\n",
       "3.59     3\n",
       "3.17     3\n",
       "3.24     2\n",
       "3.13     2\n",
       "3.63     2\n",
       "3.80     2\n",
       "3.94     2\n",
       "3.47     2\n",
       "3.33     2\n",
       "3.50     2\n",
       "2.92     1\n",
       "3.61     1\n",
       "3.08     1\n",
       "2.99     1\n",
       "3.76     1\n",
       "2.68     1\n",
       "3.34     1\n",
       "3.60     1\n",
       "2.54     1\n",
       "Name: bore, dtype: int64"
      ]
     },
     "execution_count": 51,
     "metadata": {},
     "output_type": "execute_result"
    }
   ],
   "source": [
    "cp.bore.value_counts()"
   ]
  },
  {
   "cell_type": "code",
   "execution_count": 52,
   "metadata": {},
   "outputs": [],
   "source": [
    "cp.bore =cp.bore.fillna(cp.bore.mean())"
   ]
  },
  {
   "cell_type": "code",
   "execution_count": 53,
   "metadata": {},
   "outputs": [
    {
     "data": {
      "text/plain": [
       "3.40    20\n",
       "3.03    14\n",
       "3.15    14\n",
       "3.23    14\n",
       "3.39    13\n",
       "2.64    11\n",
       "3.35     9\n",
       "3.29     9\n",
       "3.46     8\n",
       "3.41     6\n",
       "3.19     6\n",
       "3.07     6\n",
       "3.11     6\n",
       "3.58     6\n",
       "3.27     6\n",
       "3.50     6\n",
       "3.52     5\n",
       "3.64     5\n",
       "3.86     4\n",
       "3.47     4\n",
       "3.54     4\n",
       "3.90     3\n",
       "2.90     3\n",
       "3.10     2\n",
       "3.08     2\n",
       "2.80     2\n",
       "2.19     2\n",
       "2.68     2\n",
       "4.17     2\n",
       "3.16     1\n",
       "2.07     1\n",
       "2.76     1\n",
       "3.12     1\n",
       "2.87     1\n",
       "3.21     1\n",
       "2.36     1\n",
       "Name: stroke, dtype: int64"
      ]
     },
     "execution_count": 53,
     "metadata": {},
     "output_type": "execute_result"
    }
   ],
   "source": [
    "cp.stroke.value_counts()"
   ]
  },
  {
   "cell_type": "code",
   "execution_count": 54,
   "metadata": {},
   "outputs": [],
   "source": [
    "cp.stroke = cp.stroke.fillna(cp.stroke.mean())"
   ]
  },
  {
   "cell_type": "code",
   "execution_count": 55,
   "metadata": {},
   "outputs": [
    {
     "data": {
      "text/plain": [
       "68.0     19\n",
       "70.0     11\n",
       "69.0     10\n",
       "116.0     9\n",
       "110.0     8\n",
       "95.0      7\n",
       "88.0      6\n",
       "114.0     6\n",
       "160.0     6\n",
       "101.0     6\n",
       "62.0      6\n",
       "82.0      5\n",
       "84.0      5\n",
       "97.0      5\n",
       "76.0      5\n",
       "145.0     5\n",
       "102.0     5\n",
       "86.0      4\n",
       "123.0     4\n",
       "111.0     4\n",
       "92.0      4\n",
       "121.0     3\n",
       "73.0      3\n",
       "152.0     3\n",
       "207.0     3\n",
       "85.0      3\n",
       "90.0      3\n",
       "182.0     3\n",
       "100.0     2\n",
       "112.0     2\n",
       "176.0     2\n",
       "161.0     2\n",
       "156.0     2\n",
       "56.0      2\n",
       "52.0      2\n",
       "155.0     2\n",
       "184.0     2\n",
       "162.0     2\n",
       "94.0      2\n",
       "48.0      1\n",
       "140.0     1\n",
       "115.0     1\n",
       "154.0     1\n",
       "200.0     1\n",
       "58.0      1\n",
       "60.0      1\n",
       "78.0      1\n",
       "262.0     1\n",
       "135.0     1\n",
       "288.0     1\n",
       "64.0      1\n",
       "120.0     1\n",
       "72.0      1\n",
       "134.0     1\n",
       "175.0     1\n",
       "143.0     1\n",
       "55.0      1\n",
       "142.0     1\n",
       "106.0     1\n",
       "Name: horsepower, dtype: int64"
      ]
     },
     "execution_count": 55,
     "metadata": {},
     "output_type": "execute_result"
    }
   ],
   "source": [
    "cp.horsepower.value_counts()"
   ]
  },
  {
   "cell_type": "code",
   "execution_count": 56,
   "metadata": {},
   "outputs": [],
   "source": [
    "cp.horsepower = cp.horsepower.fillna(cp.horsepower.mean())"
   ]
  },
  {
   "cell_type": "code",
   "execution_count": 57,
   "metadata": {},
   "outputs": [
    {
     "data": {
      "text/plain": [
       "5500.0    37\n",
       "4800.0    36\n",
       "5000.0    27\n",
       "5200.0    23\n",
       "5400.0    13\n",
       "6000.0     9\n",
       "4500.0     7\n",
       "5800.0     7\n",
       "5250.0     7\n",
       "4200.0     5\n",
       "4150.0     5\n",
       "4750.0     4\n",
       "4350.0     4\n",
       "4400.0     3\n",
       "5100.0     3\n",
       "4250.0     3\n",
       "5900.0     3\n",
       "6600.0     2\n",
       "4650.0     1\n",
       "4900.0     1\n",
       "5750.0     1\n",
       "5300.0     1\n",
       "5600.0     1\n",
       "Name: peak_rpm, dtype: int64"
      ]
     },
     "execution_count": 57,
     "metadata": {},
     "output_type": "execute_result"
    }
   ],
   "source": [
    "cp.peak_rpm.value_counts()"
   ]
  },
  {
   "cell_type": "code",
   "execution_count": 58,
   "metadata": {},
   "outputs": [],
   "source": [
    "cp.peak_rpm = cp.peak_rpm.fillna(cp.peak_rpm.mean())"
   ]
  },
  {
   "cell_type": "code",
   "execution_count": 59,
   "metadata": {},
   "outputs": [
    {
     "data": {
      "text/plain": [
       "8495.0     2\n",
       "18150.0    2\n",
       "7295.0     2\n",
       "6229.0     2\n",
       "8845.0     2\n",
       "          ..\n",
       "15580.0    1\n",
       "6377.0     1\n",
       "30760.0    1\n",
       "16925.0    1\n",
       "18920.0    1\n",
       "Name: price, Length: 186, dtype: int64"
      ]
     },
     "execution_count": 59,
     "metadata": {},
     "output_type": "execute_result"
    }
   ],
   "source": [
    "cp.price.value_counts()"
   ]
  },
  {
   "cell_type": "code",
   "execution_count": 60,
   "metadata": {},
   "outputs": [],
   "source": [
    "cp.price = cp.price.fillna(cp.price.mean())"
   ]
  },
  {
   "cell_type": "code",
   "execution_count": 61,
   "metadata": {},
   "outputs": [
    {
     "data": {
      "text/plain": [
       "symboling            0\n",
       "normalized_losses    0\n",
       "Fuel_type            0\n",
       "make                 0\n",
       "num_of_doors         0\n",
       "aspiration           0\n",
       "wheel_base           0\n",
       "engine_location      0\n",
       "drive_wheels         0\n",
       "body_style           0\n",
       "length               0\n",
       "width                0\n",
       "height               0\n",
       "curb_weight          0\n",
       "engine_type          0\n",
       "num_of_cylinders     0\n",
       "engine_size          0\n",
       "fuel_system          0\n",
       "bore                 0\n",
       "stroke               0\n",
       "compression_ratio    0\n",
       "horsepower           0\n",
       "peak_rpm             0\n",
       "city_mpg             0\n",
       "highway_mpg          0\n",
       "price                0\n",
       "dtype: int64"
      ]
     },
     "execution_count": 61,
     "metadata": {},
     "output_type": "execute_result"
    }
   ],
   "source": [
    "# Check out all nulls are removed from the given data set \n",
    "\n",
    "\n",
    "cp.isnull().sum()"
   ]
  },
  {
   "cell_type": "code",
   "execution_count": 62,
   "metadata": {},
   "outputs": [],
   "source": [
    "# Import the LabelEncoder to convert the categorical entries into numeric form \n",
    "\n",
    "\n",
    "from sklearn.preprocessing import LabelEncoder\n",
    "le = LabelEncoder()"
   ]
  },
  {
   "cell_type": "code",
   "execution_count": 63,
   "metadata": {},
   "outputs": [],
   "source": [
    "# Use this short cut method to do so.\n",
    "\n",
    "cp[cp.select_dtypes(include= ['object']).columns] = cp[cp.select_dtypes(include=['object']).columns].apply(le.fit_transform)"
   ]
  },
  {
   "cell_type": "code",
   "execution_count": 64,
   "metadata": {},
   "outputs": [
    {
     "data": {
      "text/plain": [
       "(205, 26)"
      ]
     },
     "execution_count": 64,
     "metadata": {},
     "output_type": "execute_result"
    }
   ],
   "source": [
    "cp.shape"
   ]
  },
  {
   "cell_type": "code",
   "execution_count": 65,
   "metadata": {},
   "outputs": [],
   "source": [
    "## Data sampling "
   ]
  },
  {
   "cell_type": "code",
   "execution_count": 66,
   "metadata": {},
   "outputs": [],
   "source": [
    "from sklearn.model_selection import train_test_split\n"
   ]
  },
  {
   "cell_type": "code",
   "execution_count": 67,
   "metadata": {},
   "outputs": [],
   "source": [
    "cp_train , cp_test = train_test_split(cp, test_size = 0.2, random_state = 123)"
   ]
  },
  {
   "cell_type": "code",
   "execution_count": 68,
   "metadata": {},
   "outputs": [],
   "source": [
    "cp_train_x = cp_train.iloc[ : , 0 : -1]\n",
    "cp_train_y = cp_train.iloc[ : , -1]"
   ]
  },
  {
   "cell_type": "code",
   "execution_count": 69,
   "metadata": {},
   "outputs": [],
   "source": [
    "cp_test_x = cp_test.iloc[ : , 0 : -1]\n",
    "cp_test_y = cp_test.iloc[ : , -1]"
   ]
  },
  {
   "cell_type": "code",
   "execution_count": null,
   "metadata": {},
   "outputs": [],
   "source": []
  },
  {
   "cell_type": "code",
   "execution_count": 70,
   "metadata": {},
   "outputs": [],
   "source": [
    "# Model building "
   ]
  },
  {
   "cell_type": "code",
   "execution_count": 71,
   "metadata": {},
   "outputs": [],
   "source": [
    "from sklearn.linear_model import LinearRegression\n",
    "regcp = LinearRegression()"
   ]
  },
  {
   "cell_type": "code",
   "execution_count": 72,
   "metadata": {},
   "outputs": [
    {
     "data": {
      "text/plain": [
       "LinearRegression()"
      ]
     },
     "execution_count": 72,
     "metadata": {},
     "output_type": "execute_result"
    }
   ],
   "source": [
    "regcp.fit(cp_train_x, cp_train_y)"
   ]
  },
  {
   "cell_type": "code",
   "execution_count": 73,
   "metadata": {},
   "outputs": [],
   "source": [
    "# Predict the value over test data"
   ]
  },
  {
   "cell_type": "code",
   "execution_count": 74,
   "metadata": {},
   "outputs": [],
   "source": [
    "pred_test_cp = regcp.predict(cp_test_x)\n",
    "#pred_test_cp"
   ]
  },
  {
   "cell_type": "code",
   "execution_count": 75,
   "metadata": {},
   "outputs": [
    {
     "data": {
      "text/plain": [
       "array([ 2.73870806e+02, -1.48510115e+01, -1.07333758e+03,  3.62526967e+03,\n",
       "        6.07937017e+02, -9.99112896e+02,  1.90248553e+03,  1.29611861e+04,\n",
       "        7.58704079e+01, -2.44548929e+02,  6.43947728e+01,  5.84020994e+02,\n",
       "        3.63854223e+02,  1.26968992e+00,  1.12360737e+02,  1.28622856e+03,\n",
       "        1.40921753e+02,  2.01574971e+02, -7.09684862e+02, -3.32371137e+03,\n",
       "       -1.29638600e+02, -4.50171486e+01,  2.59344721e+00, -9.45557033e+00,\n",
       "        1.38670735e+02])"
      ]
     },
     "execution_count": 75,
     "metadata": {},
     "output_type": "execute_result"
    }
   ],
   "source": [
    "# To have the Beta values \n",
    "\n",
    "regcp.coef_"
   ]
  },
  {
   "cell_type": "code",
   "execution_count": 76,
   "metadata": {},
   "outputs": [
    {
     "data": {
      "text/plain": [
       "-82180.19302728007"
      ]
     },
     "execution_count": 76,
     "metadata": {},
     "output_type": "execute_result"
    }
   ],
   "source": [
    "# To have intercept value, i.e. value of 'c' or 'Beta-zero' form equation y= mx + c\n",
    "\n",
    "regcp.intercept_"
   ]
  },
  {
   "cell_type": "code",
   "execution_count": 77,
   "metadata": {},
   "outputs": [
    {
     "data": {
      "text/plain": [
       "88     1706.084994\n",
       "72     6320.836435\n",
       "114   -4489.100036\n",
       "158    2345.666565\n",
       "163    2910.343955\n",
       "159    -178.231295\n",
       "185    -887.973086\n",
       "93     1243.753047\n",
       "91      610.119749\n",
       "19    -2612.404828\n",
       "160    1077.195582\n",
       "82    -2392.307813\n",
       "52     -565.512855\n",
       "150     -20.986592\n",
       "144    3447.223087\n",
       "80    -1684.485404\n",
       "62    -1761.128353\n",
       "190    5842.718910\n",
       "122    1339.139189\n",
       "20    -2151.009325\n",
       "4      5027.322104\n",
       "145    1465.226477\n",
       "154    4132.275681\n",
       "21    -2255.870715\n",
       "108   -7508.043718\n",
       "104   -1953.090857\n",
       "148    2051.533999\n",
       "119    -218.243052\n",
       "71     2914.532711\n",
       "31      521.327047\n",
       "42     1884.265289\n",
       "176    2769.105880\n",
       "50    -1185.227928\n",
       "177    2427.980850\n",
       "10     1457.725553\n",
       "188    1224.714130\n",
       "89     -503.059243\n",
       "26      905.113790\n",
       "193    3039.223759\n",
       "194   -3413.764782\n",
       "53     -687.305219\n",
       "Name: price, dtype: float64"
      ]
     },
     "execution_count": 77,
     "metadata": {},
     "output_type": "execute_result"
    }
   ],
   "source": [
    "# To have the error, substract the predicted value from the actual value.\n",
    "\n",
    "error_test_cp = cp_test_y - pred_test_cp\n",
    "error_test_cp"
   ]
  },
  {
   "cell_type": "code",
   "execution_count": 78,
   "metadata": {},
   "outputs": [
    {
     "data": {
      "text/plain": [
       "0.8043088435313304"
      ]
     },
     "execution_count": 78,
     "metadata": {},
     "output_type": "execute_result"
    }
   ],
   "source": [
    "# Here is the value Rsquare directly from in-built function '.score'\n",
    "\n",
    "\n",
    "Rsquare = regcp.score(cp_test_x, cp_test_y)\n",
    "Rsquare"
   ]
  },
  {
   "cell_type": "code",
   "execution_count": 79,
   "metadata": {},
   "outputs": [],
   "source": [
    "# Define for the no of rows and no of columns from the given test data set\n",
    "N = cp_test_x.shape[0]\n",
    "K = cp_test_x.shape[1]"
   ]
  },
  {
   "cell_type": "code",
   "execution_count": 80,
   "metadata": {},
   "outputs": [
    {
     "data": {
      "text/plain": [
       "0.4781569160835476"
      ]
     },
     "execution_count": 80,
     "metadata": {},
     "output_type": "execute_result"
    }
   ],
   "source": [
    "\n",
    "# By substituting formula for Adj.Rsquare we get the valur for Rsquare.\n",
    "\n",
    "\n",
    "Adj_Rsquare = 1 - (1-Rsquare ) *( N- 1) / (N- K -1)\n",
    "Adj_Rsquare"
   ]
  },
  {
   "cell_type": "code",
   "execution_count": 81,
   "metadata": {},
   "outputs": [
    {
     "data": {
      "text/html": [
       "<div>\n",
       "<style scoped>\n",
       "    .dataframe tbody tr th:only-of-type {\n",
       "        vertical-align: middle;\n",
       "    }\n",
       "\n",
       "    .dataframe tbody tr th {\n",
       "        vertical-align: top;\n",
       "    }\n",
       "\n",
       "    .dataframe thead th {\n",
       "        text-align: right;\n",
       "    }\n",
       "</style>\n",
       "<table border=\"1\" class=\"dataframe\">\n",
       "  <thead>\n",
       "    <tr style=\"text-align: right;\">\n",
       "      <th></th>\n",
       "      <th>Feature</th>\n",
       "      <th>Coef.</th>\n",
       "    </tr>\n",
       "  </thead>\n",
       "  <tbody>\n",
       "    <tr>\n",
       "      <th>0</th>\n",
       "      <td>symboling</td>\n",
       "      <td>273.870806</td>\n",
       "    </tr>\n",
       "    <tr>\n",
       "      <th>1</th>\n",
       "      <td>normalized_losses</td>\n",
       "      <td>-14.851011</td>\n",
       "    </tr>\n",
       "    <tr>\n",
       "      <th>2</th>\n",
       "      <td>Fuel_type</td>\n",
       "      <td>-1073.337578</td>\n",
       "    </tr>\n",
       "    <tr>\n",
       "      <th>3</th>\n",
       "      <td>make</td>\n",
       "      <td>3625.269672</td>\n",
       "    </tr>\n",
       "    <tr>\n",
       "      <th>4</th>\n",
       "      <td>num_of_doors</td>\n",
       "      <td>607.937017</td>\n",
       "    </tr>\n",
       "    <tr>\n",
       "      <th>5</th>\n",
       "      <td>aspiration</td>\n",
       "      <td>-999.112896</td>\n",
       "    </tr>\n",
       "    <tr>\n",
       "      <th>6</th>\n",
       "      <td>wheel_base</td>\n",
       "      <td>1902.485525</td>\n",
       "    </tr>\n",
       "    <tr>\n",
       "      <th>7</th>\n",
       "      <td>engine_location</td>\n",
       "      <td>12961.186115</td>\n",
       "    </tr>\n",
       "    <tr>\n",
       "      <th>8</th>\n",
       "      <td>drive_wheels</td>\n",
       "      <td>75.870408</td>\n",
       "    </tr>\n",
       "    <tr>\n",
       "      <th>9</th>\n",
       "      <td>body_style</td>\n",
       "      <td>-244.548929</td>\n",
       "    </tr>\n",
       "    <tr>\n",
       "      <th>10</th>\n",
       "      <td>length</td>\n",
       "      <td>64.394773</td>\n",
       "    </tr>\n",
       "    <tr>\n",
       "      <th>11</th>\n",
       "      <td>width</td>\n",
       "      <td>584.020994</td>\n",
       "    </tr>\n",
       "    <tr>\n",
       "      <th>12</th>\n",
       "      <td>height</td>\n",
       "      <td>363.854223</td>\n",
       "    </tr>\n",
       "    <tr>\n",
       "      <th>13</th>\n",
       "      <td>curb_weight</td>\n",
       "      <td>1.269690</td>\n",
       "    </tr>\n",
       "    <tr>\n",
       "      <th>14</th>\n",
       "      <td>engine_type</td>\n",
       "      <td>112.360737</td>\n",
       "    </tr>\n",
       "    <tr>\n",
       "      <th>15</th>\n",
       "      <td>num_of_cylinders</td>\n",
       "      <td>1286.228558</td>\n",
       "    </tr>\n",
       "    <tr>\n",
       "      <th>16</th>\n",
       "      <td>engine_size</td>\n",
       "      <td>140.921753</td>\n",
       "    </tr>\n",
       "    <tr>\n",
       "      <th>17</th>\n",
       "      <td>fuel_system</td>\n",
       "      <td>201.574971</td>\n",
       "    </tr>\n",
       "    <tr>\n",
       "      <th>18</th>\n",
       "      <td>bore</td>\n",
       "      <td>-709.684862</td>\n",
       "    </tr>\n",
       "    <tr>\n",
       "      <th>19</th>\n",
       "      <td>stroke</td>\n",
       "      <td>-3323.711370</td>\n",
       "    </tr>\n",
       "    <tr>\n",
       "      <th>20</th>\n",
       "      <td>compression_ratio</td>\n",
       "      <td>-129.638600</td>\n",
       "    </tr>\n",
       "    <tr>\n",
       "      <th>21</th>\n",
       "      <td>horsepower</td>\n",
       "      <td>-45.017149</td>\n",
       "    </tr>\n",
       "    <tr>\n",
       "      <th>22</th>\n",
       "      <td>peak_rpm</td>\n",
       "      <td>2.593447</td>\n",
       "    </tr>\n",
       "    <tr>\n",
       "      <th>23</th>\n",
       "      <td>city_mpg</td>\n",
       "      <td>-9.455570</td>\n",
       "    </tr>\n",
       "    <tr>\n",
       "      <th>24</th>\n",
       "      <td>highway_mpg</td>\n",
       "      <td>138.670735</td>\n",
       "    </tr>\n",
       "  </tbody>\n",
       "</table>\n",
       "</div>"
      ],
      "text/plain": [
       "              Feature         Coef.\n",
       "0           symboling    273.870806\n",
       "1   normalized_losses    -14.851011\n",
       "2           Fuel_type  -1073.337578\n",
       "3                make   3625.269672\n",
       "4        num_of_doors    607.937017\n",
       "5          aspiration   -999.112896\n",
       "6          wheel_base   1902.485525\n",
       "7     engine_location  12961.186115\n",
       "8        drive_wheels     75.870408\n",
       "9          body_style   -244.548929\n",
       "10             length     64.394773\n",
       "11              width    584.020994\n",
       "12             height    363.854223\n",
       "13        curb_weight      1.269690\n",
       "14        engine_type    112.360737\n",
       "15   num_of_cylinders   1286.228558\n",
       "16        engine_size    140.921753\n",
       "17        fuel_system    201.574971\n",
       "18               bore   -709.684862\n",
       "19             stroke  -3323.711370\n",
       "20  compression_ratio   -129.638600\n",
       "21         horsepower    -45.017149\n",
       "22           peak_rpm      2.593447\n",
       "23           city_mpg     -9.455570\n",
       "24        highway_mpg    138.670735"
      ]
     },
     "execution_count": 81,
     "metadata": {},
     "output_type": "execute_result"
    }
   ],
   "source": [
    "#Create the data frame of Beta values w.r.t. column names to have the clearity for the particulars \n",
    "\n",
    "col_coef = pd.DataFrame({\"Feature\" : cp_test_x.columns , \"Coef.\" : regcp.coef_})\n",
    "col_coef"
   ]
  },
  {
   "cell_type": "code",
   "execution_count": 82,
   "metadata": {},
   "outputs": [
    {
     "data": {
      "text/html": [
       "<div>\n",
       "<style scoped>\n",
       "    .dataframe tbody tr th:only-of-type {\n",
       "        vertical-align: middle;\n",
       "    }\n",
       "\n",
       "    .dataframe tbody tr th {\n",
       "        vertical-align: top;\n",
       "    }\n",
       "\n",
       "    .dataframe thead th {\n",
       "        text-align: right;\n",
       "    }\n",
       "</style>\n",
       "<table border=\"1\" class=\"dataframe\">\n",
       "  <thead>\n",
       "    <tr style=\"text-align: right;\">\n",
       "      <th></th>\n",
       "      <th>Feature</th>\n",
       "      <th>Coef.</th>\n",
       "    </tr>\n",
       "  </thead>\n",
       "  <tbody>\n",
       "    <tr>\n",
       "      <th>7</th>\n",
       "      <td>engine_location</td>\n",
       "      <td>12961.186115</td>\n",
       "    </tr>\n",
       "    <tr>\n",
       "      <th>3</th>\n",
       "      <td>make</td>\n",
       "      <td>3625.269672</td>\n",
       "    </tr>\n",
       "    <tr>\n",
       "      <th>6</th>\n",
       "      <td>wheel_base</td>\n",
       "      <td>1902.485525</td>\n",
       "    </tr>\n",
       "    <tr>\n",
       "      <th>15</th>\n",
       "      <td>num_of_cylinders</td>\n",
       "      <td>1286.228558</td>\n",
       "    </tr>\n",
       "    <tr>\n",
       "      <th>4</th>\n",
       "      <td>num_of_doors</td>\n",
       "      <td>607.937017</td>\n",
       "    </tr>\n",
       "    <tr>\n",
       "      <th>11</th>\n",
       "      <td>width</td>\n",
       "      <td>584.020994</td>\n",
       "    </tr>\n",
       "    <tr>\n",
       "      <th>12</th>\n",
       "      <td>height</td>\n",
       "      <td>363.854223</td>\n",
       "    </tr>\n",
       "    <tr>\n",
       "      <th>0</th>\n",
       "      <td>symboling</td>\n",
       "      <td>273.870806</td>\n",
       "    </tr>\n",
       "    <tr>\n",
       "      <th>17</th>\n",
       "      <td>fuel_system</td>\n",
       "      <td>201.574971</td>\n",
       "    </tr>\n",
       "    <tr>\n",
       "      <th>16</th>\n",
       "      <td>engine_size</td>\n",
       "      <td>140.921753</td>\n",
       "    </tr>\n",
       "    <tr>\n",
       "      <th>24</th>\n",
       "      <td>highway_mpg</td>\n",
       "      <td>138.670735</td>\n",
       "    </tr>\n",
       "    <tr>\n",
       "      <th>14</th>\n",
       "      <td>engine_type</td>\n",
       "      <td>112.360737</td>\n",
       "    </tr>\n",
       "    <tr>\n",
       "      <th>8</th>\n",
       "      <td>drive_wheels</td>\n",
       "      <td>75.870408</td>\n",
       "    </tr>\n",
       "    <tr>\n",
       "      <th>10</th>\n",
       "      <td>length</td>\n",
       "      <td>64.394773</td>\n",
       "    </tr>\n",
       "    <tr>\n",
       "      <th>22</th>\n",
       "      <td>peak_rpm</td>\n",
       "      <td>2.593447</td>\n",
       "    </tr>\n",
       "    <tr>\n",
       "      <th>13</th>\n",
       "      <td>curb_weight</td>\n",
       "      <td>1.269690</td>\n",
       "    </tr>\n",
       "    <tr>\n",
       "      <th>23</th>\n",
       "      <td>city_mpg</td>\n",
       "      <td>-9.455570</td>\n",
       "    </tr>\n",
       "    <tr>\n",
       "      <th>1</th>\n",
       "      <td>normalized_losses</td>\n",
       "      <td>-14.851011</td>\n",
       "    </tr>\n",
       "    <tr>\n",
       "      <th>21</th>\n",
       "      <td>horsepower</td>\n",
       "      <td>-45.017149</td>\n",
       "    </tr>\n",
       "    <tr>\n",
       "      <th>20</th>\n",
       "      <td>compression_ratio</td>\n",
       "      <td>-129.638600</td>\n",
       "    </tr>\n",
       "    <tr>\n",
       "      <th>9</th>\n",
       "      <td>body_style</td>\n",
       "      <td>-244.548929</td>\n",
       "    </tr>\n",
       "    <tr>\n",
       "      <th>18</th>\n",
       "      <td>bore</td>\n",
       "      <td>-709.684862</td>\n",
       "    </tr>\n",
       "    <tr>\n",
       "      <th>5</th>\n",
       "      <td>aspiration</td>\n",
       "      <td>-999.112896</td>\n",
       "    </tr>\n",
       "    <tr>\n",
       "      <th>2</th>\n",
       "      <td>Fuel_type</td>\n",
       "      <td>-1073.337578</td>\n",
       "    </tr>\n",
       "    <tr>\n",
       "      <th>19</th>\n",
       "      <td>stroke</td>\n",
       "      <td>-3323.711370</td>\n",
       "    </tr>\n",
       "  </tbody>\n",
       "</table>\n",
       "</div>"
      ],
      "text/plain": [
       "              Feature         Coef.\n",
       "7     engine_location  12961.186115\n",
       "3                make   3625.269672\n",
       "6          wheel_base   1902.485525\n",
       "15   num_of_cylinders   1286.228558\n",
       "4        num_of_doors    607.937017\n",
       "11              width    584.020994\n",
       "12             height    363.854223\n",
       "0           symboling    273.870806\n",
       "17        fuel_system    201.574971\n",
       "16        engine_size    140.921753\n",
       "24        highway_mpg    138.670735\n",
       "14        engine_type    112.360737\n",
       "8        drive_wheels     75.870408\n",
       "10             length     64.394773\n",
       "22           peak_rpm      2.593447\n",
       "13        curb_weight      1.269690\n",
       "23           city_mpg     -9.455570\n",
       "1   normalized_losses    -14.851011\n",
       "21         horsepower    -45.017149\n",
       "20  compression_ratio   -129.638600\n",
       "9          body_style   -244.548929\n",
       "18               bore   -709.684862\n",
       "5          aspiration   -999.112896\n",
       "2           Fuel_type  -1073.337578\n",
       "19             stroke  -3323.711370"
      ]
     },
     "execution_count": 82,
     "metadata": {},
     "output_type": "execute_result"
    }
   ],
   "source": [
    "# Arrange them in ascending order\n",
    "\n",
    "col_coef.sort_values(\"Coef.\" , ascending = False)"
   ]
  },
  {
   "cell_type": "code",
   "execution_count": 83,
   "metadata": {},
   "outputs": [],
   "source": [
    "# TO get MSE"
   ]
  },
  {
   "cell_type": "code",
   "execution_count": 84,
   "metadata": {},
   "outputs": [
    {
     "data": {
      "text/plain": [
       "7792870.995430036"
      ]
     },
     "execution_count": 84,
     "metadata": {},
     "output_type": "execute_result"
    }
   ],
   "source": [
    "MSE = np.mean(np.square(error_test_cp))\n",
    "MSE"
   ]
  },
  {
   "cell_type": "code",
   "execution_count": 85,
   "metadata": {},
   "outputs": [
    {
     "data": {
      "text/plain": [
       "2791.5714204422634"
      ]
     },
     "execution_count": 85,
     "metadata": {},
     "output_type": "execute_result"
    }
   ],
   "source": [
    "# For RMSE\n",
    "\n",
    "RMSE = np.sqrt(MSE)\n",
    "RMSE"
   ]
  },
  {
   "cell_type": "code",
   "execution_count": 86,
   "metadata": {},
   "outputs": [
    {
     "data": {
      "text/plain": [
       "2222.7115582189913"
      ]
     },
     "execution_count": 86,
     "metadata": {},
     "output_type": "execute_result"
    }
   ],
   "source": [
    "# For MAE\n",
    "\n",
    "MAE = np.mean(np.absolute(error_test_cp))\n",
    "MAE"
   ]
  },
  {
   "cell_type": "code",
   "execution_count": 87,
   "metadata": {},
   "outputs": [
    {
     "data": {
      "text/plain": [
       "21.220431809098443"
      ]
     },
     "execution_count": 87,
     "metadata": {},
     "output_type": "execute_result"
    }
   ],
   "source": [
    "# For MAPE\n",
    "\n",
    "MAPE = np.mean(np.absolute(error_test_cp * 100 / cp_test_y))\n",
    "MAPE"
   ]
  },
  {
   "cell_type": "code",
   "execution_count": 88,
   "metadata": {},
   "outputs": [
    {
     "data": {
      "text/plain": [
       "78.77956819090156"
      ]
     },
     "execution_count": 88,
     "metadata": {},
     "output_type": "execute_result"
    }
   ],
   "source": [
    "# Accuracy of the given set \n",
    "\n",
    "Accuracy = 100 - MAPE\n",
    "Accuracy"
   ]
  },
  {
   "cell_type": "code",
   "execution_count": null,
   "metadata": {},
   "outputs": [],
   "source": []
  },
  {
   "cell_type": "code",
   "execution_count": 89,
   "metadata": {},
   "outputs": [],
   "source": [
    "## Graphical Represnetation with train data "
   ]
  },
  {
   "cell_type": "code",
   "execution_count": 98,
   "metadata": {},
   "outputs": [],
   "source": [
    "# Import the 2 major libraries to graph the plot \n",
    "\n",
    "\n",
    "import matplotlib.pyplot as plt\n",
    "import seaborn as sns"
   ]
  },
  {
   "cell_type": "code",
   "execution_count": 91,
   "metadata": {},
   "outputs": [
    {
     "data": {
      "text/plain": [
       "4.702753092094166e-12"
      ]
     },
     "execution_count": 91,
     "metadata": {},
     "output_type": "execute_result"
    }
   ],
   "source": [
    "# We are using here train data set to define our model graphically, because our test data set has 0.2 part of our data, \n",
    "# as it present our data in limited formed. To avoid this inequalities we are using train data \n",
    "\n",
    "pred_train_cp = regcp.predict(cp_train_x)\n",
    "error_train_cp = cp_train_y - pred_train_cp\n",
    "\n",
    "\n",
    "# To check that are we on the right track or not, check for the assumption over train data \n",
    "# As we can see that, our assumption value is close to zero, we are on right track \n",
    "np.mean(error_train_cp)"
   ]
  },
  {
   "cell_type": "code",
   "execution_count": 92,
   "metadata": {},
   "outputs": [
    {
     "data": {
      "text/plain": [
       "(array([ 2.,  4.,  9., 22., 35., 37., 27., 14.,  8.,  4.,  1.,  0.,  0.,\n",
       "         0.,  1.]),\n",
       " array([-7634.26709008, -6208.63090831, -4782.99472654, -3357.35854476,\n",
       "        -1931.72236299,  -506.08618122,   919.55000055,  2345.18618232,\n",
       "         3770.8223641 ,  5196.45854587,  6622.09472764,  8047.73090941,\n",
       "         9473.36709118, 10899.00327296, 12324.63945473, 13750.2756365 ]),\n",
       " <BarContainer object of 15 artists>)"
      ]
     },
     "execution_count": 92,
     "metadata": {},
     "output_type": "execute_result"
    },
    {
     "data": {
      "image/png": "[encoded data removed]",
      "text/plain": [
       "<Figure size 432x288 with 1 Axes>"
      ]
     },
     "metadata": {
      "needs_background": "light"
     },
     "output_type": "display_data"
    }
   ],
   "source": [
    "# Plot Histogram to check the distribution of our data \n",
    "# We can clearly see that its normally distributed over x axis \n",
    "\n",
    "plt.hist(error_train_cp, bins=15, color=\"blue\")"
   ]
  },
  {
   "cell_type": "code",
   "execution_count": 93,
   "metadata": {},
   "outputs": [
    {
     "data": {
      "text/plain": [
       "<seaborn.axisgrid.FacetGrid at 0x14c312142e0>"
      ]
     },
     "execution_count": 93,
     "metadata": {},
     "output_type": "execute_result"
    },
    {
     "data": {
      "image/png": "[encoded data removed]",
      "text/plain": [
       "<Figure size 360x360 with 1 Axes>"
      ]
     },
     "metadata": {
      "needs_background": "light"
     },
     "output_type": "display_data"
    }
   ],
   "source": [
    "# Here  is the seaborn plot over train data \n",
    "# Also, from this we can see that the graph is normally distributed \n",
    "\n",
    "sns.displot(error_train_cp)"
   ]
  },
  {
   "cell_type": "code",
   "execution_count": 94,
   "metadata": {},
   "outputs": [
    {
     "data": {
      "text/plain": [
       "[<matplotlib.lines.Line2D at 0x14c312fb8b0>]"
      ]
     },
     "execution_count": 94,
     "metadata": {},
     "output_type": "execute_result"
    },
    {
     "data": {
      "image/png": "[encoded data removed]",
      "text/plain": [
       "<Figure size 432x288 with 1 Axes>"
      ]
     },
     "metadata": {
      "needs_background": "light"
     },
     "output_type": "display_data"
    }
   ],
   "source": [
    "\n",
    "# Plot the graph with with co-ordinates of x and y using '*' as our pointer by using 'plt.plot' method \n",
    "\n",
    "plt.plot(error_train_cp, \"*\", color = \"blue\")"
   ]
  },
  {
   "cell_type": "code",
   "execution_count": 95,
   "metadata": {},
   "outputs": [
    {
     "data": {
      "text/html": [
       "<div>\n",
       "<style scoped>\n",
       "    .dataframe tbody tr th:only-of-type {\n",
       "        vertical-align: middle;\n",
       "    }\n",
       "\n",
       "    .dataframe tbody tr th {\n",
       "        vertical-align: top;\n",
       "    }\n",
       "\n",
       "    .dataframe thead th {\n",
       "        text-align: right;\n",
       "    }\n",
       "</style>\n",
       "<table border=\"1\" class=\"dataframe\">\n",
       "  <thead>\n",
       "    <tr style=\"text-align: right;\">\n",
       "      <th></th>\n",
       "      <th>Predicted</th>\n",
       "      <th>Actual</th>\n",
       "    </tr>\n",
       "  </thead>\n",
       "  <tbody>\n",
       "    <tr>\n",
       "      <th>197</th>\n",
       "      <td>16687.816633</td>\n",
       "      <td>16515.0</td>\n",
       "    </tr>\n",
       "    <tr>\n",
       "      <th>112</th>\n",
       "      <td>20777.876664</td>\n",
       "      <td>16900.0</td>\n",
       "    </tr>\n",
       "    <tr>\n",
       "      <th>95</th>\n",
       "      <td>6760.352403</td>\n",
       "      <td>7799.0</td>\n",
       "    </tr>\n",
       "    <tr>\n",
       "      <th>169</th>\n",
       "      <td>11991.721822</td>\n",
       "      <td>9989.0</td>\n",
       "    </tr>\n",
       "    <tr>\n",
       "      <th>184</th>\n",
       "      <td>8328.934219</td>\n",
       "      <td>7995.0</td>\n",
       "    </tr>\n",
       "    <tr>\n",
       "      <th>...</th>\n",
       "      <td>...</td>\n",
       "      <td>...</td>\n",
       "    </tr>\n",
       "    <tr>\n",
       "      <th>17</th>\n",
       "      <td>31460.791604</td>\n",
       "      <td>36880.0</td>\n",
       "    </tr>\n",
       "    <tr>\n",
       "      <th>98</th>\n",
       "      <td>7253.360820</td>\n",
       "      <td>8249.0</td>\n",
       "    </tr>\n",
       "    <tr>\n",
       "      <th>66</th>\n",
       "      <td>14300.153795</td>\n",
       "      <td>18344.0</td>\n",
       "    </tr>\n",
       "    <tr>\n",
       "      <th>126</th>\n",
       "      <td>34176.340249</td>\n",
       "      <td>32528.0</td>\n",
       "    </tr>\n",
       "    <tr>\n",
       "      <th>109</th>\n",
       "      <td>17368.429692</td>\n",
       "      <td>12440.0</td>\n",
       "    </tr>\n",
       "  </tbody>\n",
       "</table>\n",
       "<p>164 rows × 2 columns</p>\n",
       "</div>"
      ],
      "text/plain": [
       "        Predicted   Actual\n",
       "197  16687.816633  16515.0\n",
       "112  20777.876664  16900.0\n",
       "95    6760.352403   7799.0\n",
       "169  11991.721822   9989.0\n",
       "184   8328.934219   7995.0\n",
       "..            ...      ...\n",
       "17   31460.791604  36880.0\n",
       "98    7253.360820   8249.0\n",
       "66   14300.153795  18344.0\n",
       "126  34176.340249  32528.0\n",
       "109  17368.429692  12440.0\n",
       "\n",
       "[164 rows x 2 columns]"
      ]
     },
     "execution_count": 95,
     "metadata": {},
     "output_type": "execute_result"
    }
   ],
   "source": [
    "\n",
    "# Create a data frame named 'pred_actual' by using predicted train data and original train data of y (target variables)\n",
    "\n",
    "pred_actual = pd.DataFrame({\"Predicted\" : pred_train_cp, \"Actual\" : cp_train_y})\n",
    "pred_actual"
   ]
  },
  {
   "cell_type": "code",
   "execution_count": 102,
   "metadata": {},
   "outputs": [],
   "source": [
    "import seaborn as sns"
   ]
  },
  {
   "cell_type": "code",
   "execution_count": 106,
   "metadata": {
    "scrolled": true
   },
   "outputs": [
    {
     "data": {
      "text/plain": [
       "<seaborn.axisgrid.JointGrid at 0x14c31d6fca0>"
      ]
     },
     "execution_count": 106,
     "metadata": {},
     "output_type": "execute_result"
    },
    {
     "data": {
      "text/plain": [
       "<Figure size 576x576 with 0 Axes>"
      ]
     },
     "metadata": {},
     "output_type": "display_data"
    },
    {
     "data": {
      "image/png": "[encoded data removed]",
      "text/plain": [
       "<Figure size 432x432 with 3 Axes>"
      ]
     },
     "metadata": {
      "needs_background": "light"
     },
     "output_type": "display_data"
    }
   ],
   "source": [
    "# Plot the joint plot with sized (8,8) by assigning x as 'Actual' and y as 'Predicted' by using data 'pred_actual' as above \n",
    "\n",
    "plt.figure(figsize=(8,8))\n",
    "sns.jointplot( x = \"Actual\" , y = \"Predicted\", kind=\"reg\", data = pred_actual)"
   ]
  },
  {
   "cell_type": "code",
   "execution_count": null,
   "metadata": {},
   "outputs": [],
   "source": []
  },
  {
   "cell_type": "code",
   "execution_count": null,
   "metadata": {},
   "outputs": [],
   "source": []
  },
  {
   "cell_type": "code",
   "execution_count": null,
   "metadata": {},
   "outputs": [],
   "source": []
  },
  {
   "cell_type": "code",
   "execution_count": null,
   "metadata": {},
   "outputs": [],
   "source": []
  },
  {
   "cell_type": "code",
   "execution_count": null,
   "metadata": {},
   "outputs": [],
   "source": []
  },
  {
   "cell_type": "code",
   "execution_count": null,
   "metadata": {},
   "outputs": [],
   "source": []
  },
  {
   "cell_type": "code",
   "execution_count": null,
   "metadata": {},
   "outputs": [],
   "source": []
  },
  {
   "cell_type": "code",
   "execution_count": null,
   "metadata": {},
   "outputs": [],
   "source": []
  }
 ],
 "metadata": {
  "kernelspec": {
   "display_name": "Python 3",
   "language": "python",
   "name": "python3"
  },
  "language_info": {
   "codemirror_mode": {
    "name": "ipython",
    "version": 3
   },
   "file_extension": ".py",
   "mimetype": "text/x-python",
   "name": "python",
   "nbconvert_exporter": "python",
   "pygments_lexer": "ipython3",
   "version": "3.8.5"
  }
 },
 "nbformat": 4,
 "nbformat_minor": 4
}
